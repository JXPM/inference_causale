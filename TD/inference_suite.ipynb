{
 "cells": [
  {
   "cell_type": "markdown",
   "metadata": {},
   "source": [
    "**EXERCICE 1**"
   ]
  },
  {
   "cell_type": "code",
   "execution_count": 1,
   "metadata": {},
   "outputs": [],
   "source": [
    "import numpy as np\n",
    "import scipy.stats as stats"
   ]
  },
  {
   "cell_type": "code",
   "execution_count": 2,
   "metadata": {},
   "outputs": [],
   "source": [
    "# Étape 1 : Définition des données\n",
    "experience = np.array([1.5, 3.2, 2.1, 4.5, 3.8, 5.6, 7.2, 6.3, 8.0, 9.5])\n",
    "productivite = np.array([45, 60, 50, 75, 68, 80, 85, 78, 90, 95])"
   ]
  },
  {
   "cell_type": "code",
   "execution_count": 3,
   "metadata": {},
   "outputs": [],
   "source": [
    "# Étape 2 : Calcul de la moyenne\n",
    "mean_X = np.mean(experience)\n",
    "mean_Y = np.mean(productivite)"
   ]
  },
  {
   "cell_type": "code",
   "execution_count": 4,
   "metadata": {},
   "outputs": [],
   "source": [
    "# Étape 3 : Calcul des écarts à la moyenne\n",
    "diff_X = experience - mean_X\n",
    "diff_Y = productivite - mean_Y"
   ]
  },
  {
   "cell_type": "code",
   "execution_count": 5,
   "metadata": {},
   "outputs": [],
   "source": [
    "\n",
    "# Étape 4 : Calcul des termes pour Pearson\n",
    "num_pearson = np.sum(diff_X * diff_Y)\n",
    "den_pearson = np.sqrt(np.sum(diff_X**2) * np.sum(diff_Y**2))\n",
    "r_pearson = num_pearson / den_pearson"
   ]
  },
  {
   "cell_type": "code",
   "execution_count": 6,
   "metadata": {},
   "outputs": [],
   "source": [
    "\n",
    "# Étape 5 : Calcul du coefficient de Spearman\n",
    "r_spearman, _ = stats.spearmanr(experience, productivite)"
   ]
  },
  {
   "cell_type": "code",
   "execution_count": 7,
   "metadata": {},
   "outputs": [
    {
     "name": "stdout",
     "output_type": "stream",
     "text": [
      "Moyenne Expérience : 5.17, Moyenne Productivité : 72.60\n",
      "Coefficient de corrélation de Pearson : 0.9717\n",
      "Coefficient de corrélation de Spearman : 0.9879\n"
     ]
    }
   ],
   "source": [
    "print(f\"Moyenne Expérience : {mean_X:.2f}, Moyenne Productivité : {mean_Y:.2f}\")\n",
    "print(f\"Coefficient de corrélation de Pearson : {r_pearson:.4f}\")\n",
    "print(f\"Coefficient de corrélation de Spearman : {r_spearman:.4f}\")"
   ]
  },
  {
   "cell_type": "markdown",
   "metadata": {},
   "source": [
    "**Exercice 2**"
   ]
  },
  {
   "cell_type": "code",
   "execution_count": 8,
   "metadata": {},
   "outputs": [],
   "source": [
    "# Étape 1 : Définition des données\n",
    "temps_formation = np.array([10, 12, 8, 15, 18, 20, 25, 30, 22, 27, 35, 40])\n",
    "score_performance = np.array([55, 58, 53, 65, 72, 75, 80, 85, 78, 82, 90, 95])"
   ]
  },
  {
   "cell_type": "code",
   "execution_count": 9,
   "metadata": {},
   "outputs": [],
   "source": [
    "# Étape 2 : Test de normalité (Shapiro-Wilk et Kolmogorov-Smirnov)\n",
    "shapiro_temps = stats.shapiro(temps_formation)\n",
    "shapiro_score = stats.shapiro(score_performance)\n",
    "ks_temps = stats.kstest(temps_formation, 'norm', args=(np.mean(temps_formation), np.std(temps_formation)))\n",
    "ks_score = stats.kstest(score_performance, 'norm', args=(np.mean(score_performance), np.std(score_performance)))"
   ]
  },
  {
   "cell_type": "code",
   "execution_count": 10,
   "metadata": {},
   "outputs": [],
   "source": [
    "# Étape 3 : Choix du test de corrélation\n",
    "test_correlation = \"Pearson\" if shapiro_temps.pvalue > 0.05 and shapiro_score.pvalue > 0.05 else \"Spearman\""
   ]
  },
  {
   "cell_type": "code",
   "execution_count": 11,
   "metadata": {},
   "outputs": [],
   "source": [
    "# Étape 4 : Calcul du coefficient de corrélation\n",
    "if test_correlation == \"Pearson\":\n",
    "    correlation, p_value = stats.pearsonr(temps_formation, score_performance)\n",
    "else:\n",
    "    correlation, p_value = stats.spearmanr(temps_formation, score_performance)"
   ]
  },
  {
   "cell_type": "code",
   "execution_count": 12,
   "metadata": {},
   "outputs": [
    {
     "name": "stdout",
     "output_type": "stream",
     "text": [
      "Test de normalité Shapiro-Wilk : p-valeur (Temps) = 0.9157, p-valeur (Score) = 0.6781\n",
      "Test de normalité Kolmogorov-Smirnov : p-valeur (Temps) = 0.9990, p-valeur (Score) = 0.9528\n",
      "Test de corrélation choisi : Pearson\n",
      "Coefficient de corrélation (Pearson) : 0.9810\n",
      "P-valeur de la corrélation : 0.0000\n"
     ]
    }
   ],
   "source": [
    "# Étape 5 : Affichage des résultats\n",
    "print(f\"Test de normalité Shapiro-Wilk : p-valeur (Temps) = {shapiro_temps.pvalue:.4f}, p-valeur (Score) = {shapiro_score.pvalue:.4f}\")\n",
    "print(f\"Test de normalité Kolmogorov-Smirnov : p-valeur (Temps) = {ks_temps.pvalue:.4f}, p-valeur (Score) = {ks_score.pvalue:.4f}\")\n",
    "print(f\"Test de corrélation choisi : {test_correlation}\")\n",
    "print(f\"Coefficient de corrélation ({test_correlation}) : {correlation:.4f}\")\n",
    "print(f\"P-valeur de la corrélation : {p_value:.4f}\")"
   ]
  },
  {
   "cell_type": "code",
   "execution_count": 13,
   "metadata": {},
   "outputs": [
    {
     "name": "stdout",
     "output_type": "stream",
     "text": [
      "La corrélation est significative au seuil de 5%.\n"
     ]
    }
   ],
   "source": [
    "# Interprétation des résultats\n",
    "if p_value < 0.05:\n",
    "    print(\"La corrélation est significative au seuil de 5%.\")\n",
    "else:\n",
    "    print(\"La corrélation n'est pas significative au seuil de 5%.\")"
   ]
  },
  {
   "cell_type": "markdown",
   "metadata": {},
   "source": [
    "**Exercie 3**"
   ]
  },
  {
   "cell_type": "code",
   "execution_count": 14,
   "metadata": {},
   "outputs": [],
   "source": [
    "import pandas as pd\n",
    "from scipy import stats"
   ]
  },
  {
   "cell_type": "code",
   "execution_count": 15,
   "metadata": {},
   "outputs": [
    {
     "data": {
      "text/html": [
       "<div>\n",
       "<style scoped>\n",
       "    .dataframe tbody tr th:only-of-type {\n",
       "        vertical-align: middle;\n",
       "    }\n",
       "\n",
       "    .dataframe tbody tr th {\n",
       "        vertical-align: top;\n",
       "    }\n",
       "\n",
       "    .dataframe thead th {\n",
       "        text-align: right;\n",
       "    }\n",
       "</style>\n",
       "<table border=\"1\" class=\"dataframe\">\n",
       "  <thead>\n",
       "    <tr style=\"text-align: right;\">\n",
       "      <th></th>\n",
       "      <th>Employé</th>\n",
       "      <th>Groupe</th>\n",
       "      <th>Productivité_Avant</th>\n",
       "      <th>Productivité_Après</th>\n",
       "    </tr>\n",
       "  </thead>\n",
       "  <tbody>\n",
       "    <tr>\n",
       "      <th>0</th>\n",
       "      <td>1</td>\n",
       "      <td>Traité</td>\n",
       "      <td>50</td>\n",
       "      <td>65</td>\n",
       "    </tr>\n",
       "    <tr>\n",
       "      <th>1</th>\n",
       "      <td>2</td>\n",
       "      <td>Traité</td>\n",
       "      <td>48</td>\n",
       "      <td>62</td>\n",
       "    </tr>\n",
       "    <tr>\n",
       "      <th>2</th>\n",
       "      <td>3</td>\n",
       "      <td>Traité</td>\n",
       "      <td>55</td>\n",
       "      <td>70</td>\n",
       "    </tr>\n",
       "    <tr>\n",
       "      <th>3</th>\n",
       "      <td>4</td>\n",
       "      <td>Traité</td>\n",
       "      <td>52</td>\n",
       "      <td>66</td>\n",
       "    </tr>\n",
       "    <tr>\n",
       "      <th>4</th>\n",
       "      <td>5</td>\n",
       "      <td>Traité</td>\n",
       "      <td>49</td>\n",
       "      <td>64</td>\n",
       "    </tr>\n",
       "  </tbody>\n",
       "</table>\n",
       "</div>"
      ],
      "text/plain": [
       "   Employé  Groupe  Productivité_Avant  Productivité_Après\n",
       "0        1  Traité                  50                  65\n",
       "1        2  Traité                  48                  62\n",
       "2        3  Traité                  55                  70\n",
       "3        4  Traité                  52                  66\n",
       "4        5  Traité                  49                  64"
      ]
     },
     "execution_count": 15,
     "metadata": {},
     "output_type": "execute_result"
    }
   ],
   "source": [
    "data = {\n",
    "    'Employé': [1, 2, 3, 4, 5, 6, 7, 8, 9, 10,\n",
    "                11, 12, 13, 14, 15, 16, 17, 18, 19, 20],\n",
    "    'Groupe': ['Traité']*10 + ['Contrôle']*10,\n",
    "    'Productivité_Avant': [50, 48, 55, 52, 49, 51, 50, 53, 47, 46,\n",
    "                           50, 48, 55, 52, 49, 51, 50, 53, 47, 46],\n",
    "    'Productivité_Après': [65, 62, 70, 66, 64, 67, 68, 69, 63, 61,\n",
    "                           52, 49, 56, 53, 51, 52, 51, 54, 48, 47]\n",
    "}\n",
    "\n",
    "df = pd.DataFrame(data)\n",
    "df.head()"
   ]
  },
  {
   "cell_type": "code",
   "execution_count": 16,
   "metadata": {},
   "outputs": [
    {
     "name": "stdout",
     "output_type": "stream",
     "text": [
      "Variation moyenne de productivité pour le groupe traité: 15.4\n",
      "Variation moyenne de productivité pour le groupe contrôle: 1.2\n"
     ]
    }
   ],
   "source": [
    "# Calculer la variation de productivité\n",
    "df['Variation'] = df['Productivité_Après'] - df['Productivité_Avant']\n",
    "\n",
    "# Séparer les groupes\n",
    "groupe_traite = df[df['Groupe'] == 'Traité']\n",
    "groupe_controle = df[df['Groupe'] == 'Contrôle']\n",
    "\n",
    "# Calcul des variations moyennes pour chaque groupe\n",
    "variation_moyenne_traite = groupe_traite['Variation'].mean()\n",
    "variation_moyenne_controle = groupe_controle['Variation'].mean()\n",
    "\n",
    "print(f\"Variation moyenne de productivité pour le groupe traité: {variation_moyenne_traite}\")\n",
    "print(f\"Variation moyenne de productivité pour le groupe contrôle: {variation_moyenne_controle}\")"
   ]
  },
  {
   "cell_type": "code",
   "execution_count": 17,
   "metadata": {},
   "outputs": [
    {
     "name": "stdout",
     "output_type": "stream",
     "text": [
      "Effet causal (Différences-en-Différences): 14.20\n"
     ]
    }
   ],
   "source": [
    "# Calcul de l'effet causal (Différences-en-Différences)\n",
    "effet_causal = variation_moyenne_traite - variation_moyenne_controle\n",
    "\n",
    "print(f\"Effet causal (Différences-en-Différences): {effet_causal:.2f}\")"
   ]
  },
  {
   "cell_type": "code",
   "execution_count": 18,
   "metadata": {},
   "outputs": [
    {
     "name": "stdout",
     "output_type": "stream",
     "text": [
      "Valeur t: 36.0036\n",
      "Valeur p: 3.1644481732882757e-18\n"
     ]
    }
   ],
   "source": [
    "# Calcul des gains de productivité pour chaque groupe\n",
    "gains_traite = groupe_traite['Variation']\n",
    "gains_controle = groupe_controle['Variation']\n",
    "\n",
    "# Test de Student pour comparer les gains moyens\n",
    "t_stat, p_value = stats.ttest_ind(gains_traite, gains_controle)\n",
    "\n",
    "print(f\"Valeur t: {t_stat:.4f}\")\n",
    "print(f\"Valeur p: {p_value}\")"
   ]
  },
  {
   "cell_type": "code",
   "execution_count": 19,
   "metadata": {},
   "outputs": [
    {
     "name": "stdout",
     "output_type": "stream",
     "text": [
      "La différence est statistiquement significative (p < 0.05).\n"
     ]
    }
   ],
   "source": [
    "alpha = 0.05\n",
    "\n",
    "if p_value < alpha:\n",
    "    print(\"La différence est statistiquement significative (p < 0.05).\")\n",
    "else:\n",
    "    print(\"La différence n'est pas statistiquement significative (p >= 0.05).\")"
   ]
  },
  {
   "cell_type": "code",
   "execution_count": 20,
   "metadata": {},
   "outputs": [
    {
     "name": "stdout",
     "output_type": "stream",
     "text": [
      "Conclusion : La formation a eu un effet causal sur la productivité des employés.\n",
      "Analyse :\n",
      "Il est important de noter que l'expérience pourrait souffrir de biais de sélection si les employés traités n'étaient pas aléatoirement choisis.\n",
      "De plus, des facteurs externes non mesurés pourraient également affecter la productivité.\n"
     ]
    }
   ],
   "source": [
    "if p_value < alpha:\n",
    "    print(\"Conclusion : La formation a eu un effet causal sur la productivité des employés.\")\n",
    "else:\n",
    "    print(\"Conclusion : Il n'y a pas suffisamment de preuves pour conclure que la formation a eu un effet causal sur la productivité.\")\n",
    "    \n",
    "print(\"Analyse :\")\n",
    "print(\"Il est important de noter que l'expérience pourrait souffrir de biais de sélection si les employés traités n'étaient pas aléatoirement choisis.\")\n",
    "print(\"De plus, des facteurs externes non mesurés pourraient également affecter la productivité.\")"
   ]
  }
 ],
 "metadata": {
  "kernelspec": {
   "display_name": "Python 3",
   "language": "python",
   "name": "python3"
  },
  "language_info": {
   "codemirror_mode": {
    "name": "ipython",
    "version": 3
   },
   "file_extension": ".py",
   "mimetype": "text/x-python",
   "name": "python",
   "nbconvert_exporter": "python",
   "pygments_lexer": "ipython3",
   "version": "3.10.12"
  }
 },
 "nbformat": 4,
 "nbformat_minor": 2
}
