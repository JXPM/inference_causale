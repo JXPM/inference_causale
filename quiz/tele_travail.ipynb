{
 "cells": [
  {
   "cell_type": "code",
   "execution_count": 31,
   "metadata": {},
   "outputs": [],
   "source": [
    "import pandas as pd\n",
    "import numpy as np\n",
    "import scipy.stats as stats\n",
    "import seaborn as sns\n",
    "import matplotlib.pyplot as plt\n",
    "from sklearn.linear_model import LinearRegression\n",
    "from scipy.stats import shapiro\n",
    "from scipy.stats import ks_2samp"
   ]
  },
  {
   "cell_type": "code",
   "execution_count": 21,
   "metadata": {},
   "outputs": [
    {
     "data": {
      "text/html": [
       "<div>\n",
       "<style scoped>\n",
       "    .dataframe tbody tr th:only-of-type {\n",
       "        vertical-align: middle;\n",
       "    }\n",
       "\n",
       "    .dataframe tbody tr th {\n",
       "        vertical-align: top;\n",
       "    }\n",
       "\n",
       "    .dataframe thead th {\n",
       "        text-align: right;\n",
       "    }\n",
       "</style>\n",
       "<table border=\"1\" class=\"dataframe\">\n",
       "  <thead>\n",
       "    <tr style=\"text-align: right;\">\n",
       "      <th></th>\n",
       "      <th>Jours de télétravail</th>\n",
       "      <th>Productivité (tâches/semaine)</th>\n",
       "    </tr>\n",
       "  </thead>\n",
       "  <tbody>\n",
       "    <tr>\n",
       "      <th>0</th>\n",
       "      <td>2</td>\n",
       "      <td>39.116593</td>\n",
       "    </tr>\n",
       "    <tr>\n",
       "      <th>1</th>\n",
       "      <td>1</td>\n",
       "      <td>43.044830</td>\n",
       "    </tr>\n",
       "    <tr>\n",
       "      <th>2</th>\n",
       "      <td>1</td>\n",
       "      <td>43.509474</td>\n",
       "    </tr>\n",
       "    <tr>\n",
       "      <th>3</th>\n",
       "      <td>2</td>\n",
       "      <td>60.864211</td>\n",
       "    </tr>\n",
       "    <tr>\n",
       "      <th>4</th>\n",
       "      <td>5</td>\n",
       "      <td>72.814068</td>\n",
       "    </tr>\n",
       "  </tbody>\n",
       "</table>\n",
       "</div>"
      ],
      "text/plain": [
       "   Jours de télétravail  Productivité (tâches/semaine)\n",
       "0                     2                      39.116593\n",
       "1                     1                      43.044830\n",
       "2                     1                      43.509474\n",
       "3                     2                      60.864211\n",
       "4                     5                      72.814068"
      ]
     },
     "execution_count": 21,
     "metadata": {},
     "output_type": "execute_result"
    }
   ],
   "source": [
    "df = pd.read_csv('teletravail_productivite.csv')\n",
    "df.head()"
   ]
  },
  {
   "cell_type": "code",
   "execution_count": 22,
   "metadata": {},
   "outputs": [
    {
     "name": "stdout",
     "output_type": "stream",
     "text": [
      "<class 'pandas.core.frame.DataFrame'>\n",
      "RangeIndex: 300 entries, 0 to 299\n",
      "Data columns (total 2 columns):\n",
      " #   Column                         Non-Null Count  Dtype  \n",
      "---  ------                         --------------  -----  \n",
      " 0   Jours de télétravail           300 non-null    int64  \n",
      " 1   Productivité (tâches/semaine)  300 non-null    float64\n",
      "dtypes: float64(1), int64(1)\n",
      "memory usage: 4.8 KB\n"
     ]
    }
   ],
   "source": [
    "df.info()"
   ]
  },
  {
   "cell_type": "code",
   "execution_count": 23,
   "metadata": {},
   "outputs": [
    {
     "data": {
      "text/html": [
       "<div>\n",
       "<style scoped>\n",
       "    .dataframe tbody tr th:only-of-type {\n",
       "        vertical-align: middle;\n",
       "    }\n",
       "\n",
       "    .dataframe tbody tr th {\n",
       "        vertical-align: top;\n",
       "    }\n",
       "\n",
       "    .dataframe thead th {\n",
       "        text-align: right;\n",
       "    }\n",
       "</style>\n",
       "<table border=\"1\" class=\"dataframe\">\n",
       "  <thead>\n",
       "    <tr style=\"text-align: right;\">\n",
       "      <th></th>\n",
       "      <th>Jours de télétravail</th>\n",
       "      <th>Productivité (tâches/semaine)</th>\n",
       "    </tr>\n",
       "  </thead>\n",
       "  <tbody>\n",
       "    <tr>\n",
       "      <th>count</th>\n",
       "      <td>300.000000</td>\n",
       "      <td>300.000000</td>\n",
       "    </tr>\n",
       "    <tr>\n",
       "      <th>mean</th>\n",
       "      <td>2.470000</td>\n",
       "      <td>52.874060</td>\n",
       "    </tr>\n",
       "    <tr>\n",
       "      <th>std</th>\n",
       "      <td>1.743339</td>\n",
       "      <td>10.417448</td>\n",
       "    </tr>\n",
       "    <tr>\n",
       "      <th>min</th>\n",
       "      <td>0.000000</td>\n",
       "      <td>30.726071</td>\n",
       "    </tr>\n",
       "    <tr>\n",
       "      <th>25%</th>\n",
       "      <td>1.000000</td>\n",
       "      <td>44.375700</td>\n",
       "    </tr>\n",
       "    <tr>\n",
       "      <th>50%</th>\n",
       "      <td>2.000000</td>\n",
       "      <td>52.688794</td>\n",
       "    </tr>\n",
       "    <tr>\n",
       "      <th>75%</th>\n",
       "      <td>4.000000</td>\n",
       "      <td>61.487593</td>\n",
       "    </tr>\n",
       "    <tr>\n",
       "      <th>max</th>\n",
       "      <td>5.000000</td>\n",
       "      <td>77.528446</td>\n",
       "    </tr>\n",
       "  </tbody>\n",
       "</table>\n",
       "</div>"
      ],
      "text/plain": [
       "       Jours de télétravail  Productivité (tâches/semaine)\n",
       "count            300.000000                     300.000000\n",
       "mean               2.470000                      52.874060\n",
       "std                1.743339                      10.417448\n",
       "min                0.000000                      30.726071\n",
       "25%                1.000000                      44.375700\n",
       "50%                2.000000                      52.688794\n",
       "75%                4.000000                      61.487593\n",
       "max                5.000000                      77.528446"
      ]
     },
     "execution_count": 23,
     "metadata": {},
     "output_type": "execute_result"
    }
   ],
   "source": [
    "df.describe()"
   ]
  },
  {
   "cell_type": "code",
   "execution_count": 24,
   "metadata": {},
   "outputs": [
    {
     "name": "stdout",
     "output_type": "stream",
     "text": [
      "0 valeurs dupliquées dans le dataset\n",
      "0 valeurs dupliquées dans le dataset\n"
     ]
    }
   ],
   "source": [
    "print(f\"{df.duplicated().sum()} valeurs dupliquées dans le dataset\")\n",
    "print(f\"{df.duplicated().sum()} valeurs dupliquées dans le dataset\")"
   ]
  },
  {
   "cell_type": "code",
   "execution_count": 30,
   "metadata": {},
   "outputs": [
    {
     "name": "stdout",
     "output_type": "stream",
     "text": [
      "Test de Shapiro-Wilk pour les jours de télétravail : ShapiroResult(statistic=0.8983696565282586, pvalue=2.631578379534567e-13)\n",
      "Test de Shapiro-Wilk pour la productivité : ShapiroResult(statistic=0.980067770865598, pvalue=0.0003437774530470766)\n"
     ]
    }
   ],
   "source": [
    "# Test de Shapiro-Wilk pour les jours de télétravail\n",
    "resultat_shapiro_jours = shapiro(df[\"Jours de télétravail\"])\n",
    "print(f\"Test de Shapiro-Wilk pour les jours de télétravail : {resultat_shapiro_jours}\")\n",
    "\n",
    "# Test de Shapiro-Wilk pour la productivité\n",
    "resultat_shapiro_productivite = shapiro(df[\"Productivité (tâches/semaine)\"])\n",
    "print(f\"Test de Shapiro-Wilk pour la productivité : {resultat_shapiro_productivite}\")"
   ]
  },
  {
   "cell_type": "code",
   "execution_count": 33,
   "metadata": {},
   "outputs": [
    {
     "name": "stdout",
     "output_type": "stream",
     "text": [
      "Test de Kolmogorov-Smirnov pour les jours de télétravail :\n",
      "KstestResult(statistic=1.0, pvalue=0.006644518272425246, statistic_location='5', statistic_sign=1)\n",
      "Test de Kolmogorov-Smirnov pour la productivité :\n",
      "KstestResult(statistic=1.0, pvalue=0.006644518272425246, statistic_location='77.52844604820986', statistic_sign=1)\n"
     ]
    }
   ],
   "source": [
    "# Test de Kolmogorov-Smirnov pour les jours de télétravail\n",
    "resultat_ks_jours = ks_2samp(df[\"Jours de télétravail\"], \"norm\")\n",
    "print(\"Test de Kolmogorov-Smirnov pour les jours de télétravail :\")\n",
    "print(resultat_ks_jours)\n",
    "\n",
    "# Test de Kolmogorov-Smirnov pour la productivité\n",
    "resultat_ks_productivite = ks_2samp(df[\"Productivité (tâches/semaine)\"], \"norm\")\n",
    "print(\"Test de Kolmogorov-Smirnov pour la productivité :\")\n",
    "print(resultat_ks_productivite)"
   ]
  },
  {
   "cell_type": "code",
   "execution_count": 34,
   "metadata": {},
   "outputs": [
    {
     "name": "stdout",
     "output_type": "stream",
     "text": [
      "La variable 1 n'a pas une distribution normale\n",
      "La variable 2 n'a pas une distribution normale\n",
      "Il est recommandé d'utiliser la corrélation de Spearman\n"
     ]
    }
   ],
   "source": [
    "def recommande_correlation(var1, var2):\n",
    "    shapiro_var1 = shapiro(var1)\n",
    "    shapiro_var2 = shapiro(var2)\n",
    "\n",
    "    ks_var1 = ks_2samp(var1, \"norm\")\n",
    "    ks_var2 = ks_2samp(var2, \"norm\")\n",
    "\n",
    "    if shapiro_var1.pvalue < 0.05 or ks_var1.pvalue < 0.05:\n",
    "        print(\"La variable 1 n'a pas une distribution normale\")\n",
    "    else:\n",
    "        print(\"La variable 1 a une distribution normale\")\n",
    "\n",
    "    if shapiro_var2.pvalue < 0.05 or ks_var2.pvalue < 0.05:\n",
    "        print(\"La variable 2 n'a pas une distribution normale\")\n",
    "    else:\n",
    "        print(\"La variable 2 a une distribution normale\")\n",
    "\n",
    "    if (shapiro_var1.pvalue < 0.05 or ks_var1.pvalue < 0.05) or (shapiro_var2.pvalue < 0.05 or ks_var2.pvalue < 0.05):\n",
    "        print(\"Il est recommandé d'utiliser la corrélation de Spearman\")\n",
    "    else:\n",
    "        print(\"Il est recommandé d'utiliser la corrélation de Pearson\")\n",
    "\n",
    "recommande_correlation(df[\"Jours de télétravail\"], df[\"Productivité (tâches/semaine)\"])"
   ]
  },
  {
   "cell_type": "code",
   "execution_count": 36,
   "metadata": {},
   "outputs": [
    {
     "name": "stdout",
     "output_type": "stream",
     "text": [
      "Coefficient de corrélation : 0.8545341387386723\n",
      "p-value : 0.0000\n"
     ]
    }
   ],
   "source": [
    "# Calculer le coefficient de corrélation et tester sa significativité.\n",
    "correlation = df[\"Jours de télétravail\"].corr(df[\"Productivité (tâches/semaine)\"])\n",
    "print(f\"Coefficient de corrélation : {correlation}\")\n",
    "p_value = stats.pearsonr(df[\"Jours de télétravail\"], df[\"Productivité (tâches/semaine)\"])[1]\n",
    "print(f\"p-value : {p_value:.4f}\")"
   ]
  },
  {
   "cell_type": "code",
   "execution_count": 39,
   "metadata": {},
   "outputs": [
    {
     "name": "stdout",
     "output_type": "stream",
     "text": [
      "La corrélation est significative\n"
     ]
    }
   ],
   "source": [
    "if p_value < 0.05:\n",
    "    print(\"La corrélation est significative\")\n",
    "else:\n",
    "    print(\"La corrélation n'est pas significative\")"
   ]
  }
 ],
 "metadata": {
  "kernelspec": {
   "display_name": "Python 3",
   "language": "python",
   "name": "python3"
  },
  "language_info": {
   "codemirror_mode": {
    "name": "ipython",
    "version": 3
   },
   "file_extension": ".py",
   "mimetype": "text/x-python",
   "name": "python",
   "nbconvert_exporter": "python",
   "pygments_lexer": "ipython3",
   "version": "3.10.12"
  }
 },
 "nbformat": 4,
 "nbformat_minor": 2
}
