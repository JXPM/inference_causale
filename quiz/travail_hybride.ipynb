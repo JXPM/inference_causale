{
 "cells": [
  {
   "cell_type": "code",
   "execution_count": null,
   "metadata": {},
   "outputs": [],
   "source": [
    "import pandas as pd\n",
    "import numpy as np\n",
    "import scipy.stats as stats\n"
   ]
  },
  {
   "cell_type": "code",
   "execution_count": 3,
   "metadata": {},
   "outputs": [
    {
     "data": {
      "text/html": [
       "<div>\n",
       "<style scoped>\n",
       "    .dataframe tbody tr th:only-of-type {\n",
       "        vertical-align: middle;\n",
       "    }\n",
       "\n",
       "    .dataframe tbody tr th {\n",
       "        vertical-align: top;\n",
       "    }\n",
       "\n",
       "    .dataframe thead th {\n",
       "        text-align: right;\n",
       "    }\n",
       "</style>\n",
       "<table border=\"1\" class=\"dataframe\">\n",
       "  <thead>\n",
       "    <tr style=\"text-align: right;\">\n",
       "      <th></th>\n",
       "      <th>Groupe</th>\n",
       "      <th>Score Avant</th>\n",
       "      <th>Score Après</th>\n",
       "    </tr>\n",
       "  </thead>\n",
       "  <tbody>\n",
       "    <tr>\n",
       "      <th>0</th>\n",
       "      <td>Hybride</td>\n",
       "      <td>4.367302</td>\n",
       "      <td>6.304160</td>\n",
       "    </tr>\n",
       "    <tr>\n",
       "      <th>1</th>\n",
       "      <td>Hybride</td>\n",
       "      <td>6.175557</td>\n",
       "      <td>8.583623</td>\n",
       "    </tr>\n",
       "    <tr>\n",
       "      <th>2</th>\n",
       "      <td>Contrôle</td>\n",
       "      <td>4.969034</td>\n",
       "      <td>5.233323</td>\n",
       "    </tr>\n",
       "    <tr>\n",
       "      <th>3</th>\n",
       "      <td>Contrôle</td>\n",
       "      <td>6.991234</td>\n",
       "      <td>7.387931</td>\n",
       "    </tr>\n",
       "    <tr>\n",
       "      <th>4</th>\n",
       "      <td>Contrôle</td>\n",
       "      <td>6.939347</td>\n",
       "      <td>7.434620</td>\n",
       "    </tr>\n",
       "  </tbody>\n",
       "</table>\n",
       "</div>"
      ],
      "text/plain": [
       "     Groupe  Score Avant  Score Après\n",
       "0   Hybride     4.367302     6.304160\n",
       "1   Hybride     6.175557     8.583623\n",
       "2  Contrôle     4.969034     5.233323\n",
       "3  Contrôle     6.991234     7.387931\n",
       "4  Contrôle     6.939347     7.434620"
      ]
     },
     "execution_count": 3,
     "metadata": {},
     "output_type": "execute_result"
    }
   ],
   "source": [
    "df = pd.read_csv(\"travail_hybride_equilibre.csv\")\n",
    "df.head()"
   ]
  },
  {
   "cell_type": "code",
   "execution_count": 4,
   "metadata": {},
   "outputs": [
    {
     "name": "stdout",
     "output_type": "stream",
     "text": [
      "<class 'pandas.core.frame.DataFrame'>\n",
      "RangeIndex: 200 entries, 0 to 199\n",
      "Data columns (total 3 columns):\n",
      " #   Column       Non-Null Count  Dtype  \n",
      "---  ------       --------------  -----  \n",
      " 0   Groupe       200 non-null    object \n",
      " 1   Score Avant  200 non-null    float64\n",
      " 2   Score Après  200 non-null    float64\n",
      "dtypes: float64(2), object(1)\n",
      "memory usage: 4.8+ KB\n"
     ]
    }
   ],
   "source": [
    "df.info()"
   ]
  },
  {
   "cell_type": "code",
   "execution_count": 5,
   "metadata": {},
   "outputs": [
    {
     "data": {
      "text/html": [
       "<div>\n",
       "<style scoped>\n",
       "    .dataframe tbody tr th:only-of-type {\n",
       "        vertical-align: middle;\n",
       "    }\n",
       "\n",
       "    .dataframe tbody tr th {\n",
       "        vertical-align: top;\n",
       "    }\n",
       "\n",
       "    .dataframe thead th {\n",
       "        text-align: right;\n",
       "    }\n",
       "</style>\n",
       "<table border=\"1\" class=\"dataframe\">\n",
       "  <thead>\n",
       "    <tr style=\"text-align: right;\">\n",
       "      <th></th>\n",
       "      <th>Score Avant</th>\n",
       "      <th>Score Après</th>\n",
       "    </tr>\n",
       "  </thead>\n",
       "  <tbody>\n",
       "    <tr>\n",
       "      <th>count</th>\n",
       "      <td>200.000000</td>\n",
       "      <td>200.000000</td>\n",
       "    </tr>\n",
       "    <tr>\n",
       "      <th>mean</th>\n",
       "      <td>5.469358</td>\n",
       "      <td>6.416676</td>\n",
       "    </tr>\n",
       "    <tr>\n",
       "      <th>std</th>\n",
       "      <td>0.905258</td>\n",
       "      <td>1.203788</td>\n",
       "    </tr>\n",
       "    <tr>\n",
       "      <th>min</th>\n",
       "      <td>4.000565</td>\n",
       "      <td>4.058697</td>\n",
       "    </tr>\n",
       "    <tr>\n",
       "      <th>25%</th>\n",
       "      <td>4.701487</td>\n",
       "      <td>5.568632</td>\n",
       "    </tr>\n",
       "    <tr>\n",
       "      <th>50%</th>\n",
       "      <td>5.409078</td>\n",
       "      <td>6.448863</td>\n",
       "    </tr>\n",
       "    <tr>\n",
       "      <th>75%</th>\n",
       "      <td>6.277996</td>\n",
       "      <td>7.236927</td>\n",
       "    </tr>\n",
       "    <tr>\n",
       "      <th>max</th>\n",
       "      <td>6.991234</td>\n",
       "      <td>9.408569</td>\n",
       "    </tr>\n",
       "  </tbody>\n",
       "</table>\n",
       "</div>"
      ],
      "text/plain": [
       "       Score Avant  Score Après\n",
       "count   200.000000   200.000000\n",
       "mean      5.469358     6.416676\n",
       "std       0.905258     1.203788\n",
       "min       4.000565     4.058697\n",
       "25%       4.701487     5.568632\n",
       "50%       5.409078     6.448863\n",
       "75%       6.277996     7.236927\n",
       "max       6.991234     9.408569"
      ]
     },
     "execution_count": 5,
     "metadata": {},
     "output_type": "execute_result"
    }
   ],
   "source": [
    "df.describe()"
   ]
  },
  {
   "cell_type": "code",
   "execution_count": 6,
   "metadata": {},
   "outputs": [
    {
     "name": "stdout",
     "output_type": "stream",
     "text": [
      "0 valeurs dupliquées dans le dataset\n",
      "0 valeurs dupliquées dans le dataset\n"
     ]
    }
   ],
   "source": [
    "print(f\"{df.duplicated().sum()} valeurs dupliquées dans le dataset\")\n",
    "print(f\"{df.duplicated().sum()} valeurs dupliquées dans le dataset\")"
   ]
  },
  {
   "cell_type": "code",
   "execution_count": 15,
   "metadata": {},
   "outputs": [
    {
     "name": "stdout",
     "output_type": "stream",
     "text": [
      "Variation moyenne (Hybride) : 1.585\n",
      "Variation moyenne (Contrôle) : 0.270\n",
      "Différence des différences : 1.315\n"
     ]
    }
   ],
   "source": [
    "def compute_mean_variation(group_name):\n",
    "    subset = df[df['Groupe'] == group_name]\n",
    "    mean_variation = (subset['Score Après'] - subset['Score Avant']).mean()\n",
    "    return mean_variation\n",
    "\n",
    "variation_hybride = compute_mean_variation(\"Hybride\")\n",
    "variation_controle = compute_mean_variation(\"Contrôle\")\n",
    "\n",
    "diff_diffs = variation_hybride - variation_controle\n",
    "print(f\"Variation moyenne (Hybride) : {variation_hybride:.3f}\")\n",
    "print(f\"Variation moyenne (Contrôle) : {variation_controle:.3f}\")\n",
    "print(f\"Différence des différences : {diff_diffs:.3f}\")"
   ]
  },
  {
   "cell_type": "code",
   "execution_count": 11,
   "metadata": {},
   "outputs": [
    {
     "name": "stdout",
     "output_type": "stream",
     "text": [
      "Test de normalité pour le groupe Hybride : Stat=0.986, p-value=0.330\n"
     ]
    }
   ],
   "source": [
    "# Test de normalité\n",
    "alpha = 0.05\n",
    "hybride_scores = df[df['Groupe'] == \"Hybride\"]['Score Après']\n",
    "controle_scores = df[df['Groupe'] == \"Contrôle\"]['Score Après']\n",
    "stat, p_value_hybride = stats.shapiro(hybride_scores)\n",
    "print(f\"Test de normalité pour le groupe Hybride : Stat={stat:.3f}, p-value={p_value_hybride:.3f}\")"
   ]
  },
  {
   "cell_type": "code",
   "execution_count": 13,
   "metadata": {},
   "outputs": [
    {
     "name": "stdout",
     "output_type": "stream",
     "text": [
      "Test de Student : t-stat=21.829, p-value=0.000\n"
     ]
    }
   ],
   "source": [
    "# Test de Student\n",
    "hybride_diff = df[df['Groupe'] == \"Hybride\"][\"Score Après\"] - df[df['Groupe'] == \"Hybride\"][\"Score Avant\"]\n",
    "controle_diff = df[df['Groupe'] == \"Contrôle\"][\"Score Après\"] - df[df['Groupe'] == \"Contrôle\"][\"Score Avant\"]\n",
    "\n",
    "t_stat, p_value = stats.ttest_ind(hybride_diff, controle_diff)\n",
    "print(f\"Test de Student : t-stat={t_stat:.3f}, p-value={p_value:.3f}\")"
   ]
  },
  {
   "cell_type": "code",
   "execution_count": null,
   "metadata": {},
   "outputs": [],
   "source": []
  }
 ],
 "metadata": {
  "kernelspec": {
   "display_name": "Python 3",
   "language": "python",
   "name": "python3"
  },
  "language_info": {
   "codemirror_mode": {
    "name": "ipython",
    "version": 3
   },
   "file_extension": ".py",
   "mimetype": "text/x-python",
   "name": "python",
   "nbconvert_exporter": "python",
   "pygments_lexer": "ipython3",
   "version": "3.10.12"
  }
 },
 "nbformat": 4,
 "nbformat_minor": 2
}
